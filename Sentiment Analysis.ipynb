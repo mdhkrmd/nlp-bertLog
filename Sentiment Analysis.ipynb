{
 "cells": [
  {
   "cell_type": "code",
   "execution_count": 2,
   "id": "bce9f40e",
   "metadata": {},
   "outputs": [],
   "source": [
    "import numpy as np\n",
    "import pandas as pd\n",
    "\n",
    "from sklearn.model_selection import train_test_split\n",
    "from sklearn.pipeline import Pipeline\n",
    "from sklearn.compose import ColumnTransformer\n",
    "\n",
    "from nltk.tokenize import word_tokenize\n",
    "from nltk.corpus import stopwords\n",
    "from string import punctuation\n",
    "\n",
    "plusStopword = ['<username>', '@w.lina2706']\n",
    "sw_indo = stopwords.words('indonesian') + list(punctuation) + plusStopword"
   ]
  },
  {
   "cell_type": "markdown",
   "id": "6d53de2b",
   "metadata": {},
   "source": [
    "# Import Data"
   ]
  },
  {
   "cell_type": "code",
   "execution_count": 3,
   "id": "9788bbbf",
   "metadata": {},
   "outputs": [
    {
     "data": {
      "text/html": [
       "<div>\n",
       "<style scoped>\n",
       "    .dataframe tbody tr th:only-of-type {\n",
       "        vertical-align: middle;\n",
       "    }\n",
       "\n",
       "    .dataframe tbody tr th {\n",
       "        vertical-align: top;\n",
       "    }\n",
       "\n",
       "    .dataframe thead th {\n",
       "        text-align: right;\n",
       "    }\n",
       "</style>\n",
       "<table border=\"1\" class=\"dataframe\">\n",
       "  <thead>\n",
       "    <tr style=\"text-align: right;\">\n",
       "      <th></th>\n",
       "      <th>Id</th>\n",
       "      <th>Sentiment</th>\n",
       "      <th>Instagram Comment Text</th>\n",
       "    </tr>\n",
       "  </thead>\n",
       "  <tbody>\n",
       "    <tr>\n",
       "      <th>0</th>\n",
       "      <td>1</td>\n",
       "      <td>negative</td>\n",
       "      <td>&lt;USERNAME&gt; TOLOL!! Gak ada hubungan nya kegug...</td>\n",
       "    </tr>\n",
       "    <tr>\n",
       "      <th>1</th>\n",
       "      <td>2</td>\n",
       "      <td>negative</td>\n",
       "      <td>Geblek lo tata...cowo bgt dibela2in balikan......</td>\n",
       "    </tr>\n",
       "    <tr>\n",
       "      <th>2</th>\n",
       "      <td>3</td>\n",
       "      <td>negative</td>\n",
       "      <td>Kmrn termewek2 skr lengket lg duhhh kok labil ...</td>\n",
       "    </tr>\n",
       "    <tr>\n",
       "      <th>3</th>\n",
       "      <td>4</td>\n",
       "      <td>negative</td>\n",
       "      <td>Intinya kalau kesel dengan ATT nya, gausah ke ...</td>\n",
       "    </tr>\n",
       "    <tr>\n",
       "      <th>4</th>\n",
       "      <td>5</td>\n",
       "      <td>negative</td>\n",
       "      <td>hadewwwww permpuan itu lg!!!!sakit jiwa,knp ha...</td>\n",
       "    </tr>\n",
       "    <tr>\n",
       "      <th>...</th>\n",
       "      <td>...</td>\n",
       "      <td>...</td>\n",
       "      <td>...</td>\n",
       "    </tr>\n",
       "    <tr>\n",
       "      <th>395</th>\n",
       "      <td>396</td>\n",
       "      <td>positive</td>\n",
       "      <td>Bangga sama suami yg selalu ingat istri disela...</td>\n",
       "    </tr>\n",
       "    <tr>\n",
       "      <th>396</th>\n",
       "      <td>397</td>\n",
       "      <td>positive</td>\n",
       "      <td>Apaoun pekerjaannya yg penting halal u tuk men...</td>\n",
       "    </tr>\n",
       "    <tr>\n",
       "      <th>397</th>\n",
       "      <td>398</td>\n",
       "      <td>positive</td>\n",
       "      <td>Gojek itu mayoritas pegangguran yang lama gak ...</td>\n",
       "    </tr>\n",
       "    <tr>\n",
       "      <th>398</th>\n",
       "      <td>399</td>\n",
       "      <td>positive</td>\n",
       "      <td>&lt;USERNAME&gt; aslinya cantik dan ayu loh mbak kr...</td>\n",
       "    </tr>\n",
       "    <tr>\n",
       "      <th>399</th>\n",
       "      <td>400</td>\n",
       "      <td>positive</td>\n",
       "      <td>&lt;USERNAME&gt; suami saya seumuran sama saya mba,...</td>\n",
       "    </tr>\n",
       "  </tbody>\n",
       "</table>\n",
       "<p>400 rows × 3 columns</p>\n",
       "</div>"
      ],
      "text/plain": [
       "      Id Sentiment                             Instagram Comment Text\n",
       "0      1  negative   <USERNAME> TOLOL!! Gak ada hubungan nya kegug...\n",
       "1      2  negative  Geblek lo tata...cowo bgt dibela2in balikan......\n",
       "2      3  negative  Kmrn termewek2 skr lengket lg duhhh kok labil ...\n",
       "3      4  negative  Intinya kalau kesel dengan ATT nya, gausah ke ...\n",
       "4      5  negative  hadewwwww permpuan itu lg!!!!sakit jiwa,knp ha...\n",
       "..   ...       ...                                                ...\n",
       "395  396  positive  Bangga sama suami yg selalu ingat istri disela...\n",
       "396  397  positive  Apaoun pekerjaannya yg penting halal u tuk men...\n",
       "397  398  positive  Gojek itu mayoritas pegangguran yang lama gak ...\n",
       "398  399  positive   <USERNAME> aslinya cantik dan ayu loh mbak kr...\n",
       "399  400  positive   <USERNAME> suami saya seumuran sama saya mba,...\n",
       "\n",
       "[400 rows x 3 columns]"
      ]
     },
     "execution_count": 3,
     "metadata": {},
     "output_type": "execute_result"
    }
   ],
   "source": [
    "df = pd.read_csv('data/dataset_komentar_instagram_cyberbullying.csv')\n",
    "# df = pd.read_csv('data/Twitter_Emotion_Dataset.csv')\n",
    "df"
   ]
  },
  {
   "cell_type": "code",
   "execution_count": 4,
   "id": "a97a9cb4",
   "metadata": {},
   "outputs": [
    {
     "data": {
      "text/plain": [
       "negative    200\n",
       "positive    200\n",
       "Name: Sentiment, dtype: int64"
      ]
     },
     "execution_count": 4,
     "metadata": {},
     "output_type": "execute_result"
    }
   ],
   "source": [
    "df.Sentiment.value_counts()"
   ]
  },
  {
   "cell_type": "markdown",
   "id": "1b883556",
   "metadata": {},
   "source": [
    "- Neg -> 0\n",
    "- Pos -> 1"
   ]
  },
  {
   "cell_type": "markdown",
   "id": "7068ddaa",
   "metadata": {},
   "source": [
    "# Preprocessing\n",
    "### 1. Noise Removal\n",
    "- a. Punctuation / Alphanumeric / re.sub / html or url remover\n",
    "- b. Stop Words\n",
    "\n",
    "### 2. Text Normalization\n",
    "- a. Tokenisasi\n",
    "- b. Lower, convert ke indo\n",
    "- c. Stemming atau Lemmatisasi\n",
    " - Stemming mengubah suatu kata menjadi kata dasar tanpa mengetahui konteks dari kata tersebut seperti memotong ujung kata-kata (leafs -> leaf || computers -> comput)\n",
    " - Lemmatization mengubah suatu kata menjadi kata dasar dengan mengetahui konteks dari kata tersebut (leafs -> leaf || computers -> computer)\n",
    " - Secara nalar, Lemmatization lebih bagus, namun stemming lebih cepat\n",
    "\n",
    "### 3. Vektorisasi (TfidfVectorizer atau CountVectorizer)"
   ]
  },
  {
   "cell_type": "code",
   "execution_count": 5,
   "id": "fb5e3a2c",
   "metadata": {},
   "outputs": [
    {
     "name": "stdout",
     "output_type": "stream",
     "text": [
      "   _id      singkat       hasil\n",
      "0    1         abis       habis\n",
      "1    2       accent     tekanan\n",
      "2    3       accept      terima\n",
      "3    4     accident  kecelakaan\n",
      "4    5  achievement    prestasi\n"
     ]
    },
    {
     "data": {
      "text/plain": [
       "(3720, 3)"
      ]
     },
     "execution_count": 5,
     "metadata": {},
     "output_type": "execute_result"
    }
   ],
   "source": [
    "key_norm = pd.read_csv('../2. Text Representation/key_norm.csv')\n",
    "print(key_norm.head())\n",
    "key_norm.shape"
   ]
  },
  {
   "cell_type": "code",
   "execution_count": 6,
   "id": "d0e460dc",
   "metadata": {},
   "outputs": [],
   "source": [
    "def text_normalize(text):\n",
    "  text = ' '.join([key_norm[key_norm['singkat'] == word]['hasil'].values[0] if (key_norm['singkat'] == word).any() else word for word in text.split()])\n",
    "  text = str.lower(text)\n",
    "  return text"
   ]
  },
  {
   "cell_type": "code",
   "execution_count": 7,
   "id": "a57ca787",
   "metadata": {},
   "outputs": [],
   "source": [
    "df['clean_teks'] = df['Instagram Comment Text'].apply(text_normalize)"
   ]
  },
  {
   "cell_type": "code",
   "execution_count": 8,
   "id": "a62ffbc4",
   "metadata": {},
   "outputs": [
    {
     "data": {
      "text/html": [
       "<div>\n",
       "<style scoped>\n",
       "    .dataframe tbody tr th:only-of-type {\n",
       "        vertical-align: middle;\n",
       "    }\n",
       "\n",
       "    .dataframe tbody tr th {\n",
       "        vertical-align: top;\n",
       "    }\n",
       "\n",
       "    .dataframe thead th {\n",
       "        text-align: right;\n",
       "    }\n",
       "</style>\n",
       "<table border=\"1\" class=\"dataframe\">\n",
       "  <thead>\n",
       "    <tr style=\"text-align: right;\">\n",
       "      <th></th>\n",
       "      <th>Id</th>\n",
       "      <th>Sentiment</th>\n",
       "      <th>Instagram Comment Text</th>\n",
       "      <th>clean_teks</th>\n",
       "    </tr>\n",
       "  </thead>\n",
       "  <tbody>\n",
       "    <tr>\n",
       "      <th>0</th>\n",
       "      <td>1</td>\n",
       "      <td>negative</td>\n",
       "      <td>&lt;USERNAME&gt; TOLOL!! Gak ada hubungan nya kegug...</td>\n",
       "      <td>&lt;username&gt; tolol!! gak ada hubungan nya kegugu...</td>\n",
       "    </tr>\n",
       "    <tr>\n",
       "      <th>1</th>\n",
       "      <td>2</td>\n",
       "      <td>negative</td>\n",
       "      <td>Geblek lo tata...cowo bgt dibela2in balikan......</td>\n",
       "      <td>geblek kamu tata...cowo banget dibela2in balik...</td>\n",
       "    </tr>\n",
       "    <tr>\n",
       "      <th>2</th>\n",
       "      <td>3</td>\n",
       "      <td>negative</td>\n",
       "      <td>Kmrn termewek2 skr lengket lg duhhh kok labil ...</td>\n",
       "      <td>kmrn termewek2 skr lengket lagi duhhh kok labi...</td>\n",
       "    </tr>\n",
       "    <tr>\n",
       "      <th>3</th>\n",
       "      <td>4</td>\n",
       "      <td>negative</td>\n",
       "      <td>Intinya kalau kesel dengan ATT nya, gausah ke ...</td>\n",
       "      <td>intinya kalau kesel dengan att nya, tidak usah...</td>\n",
       "    </tr>\n",
       "    <tr>\n",
       "      <th>4</th>\n",
       "      <td>5</td>\n",
       "      <td>negative</td>\n",
       "      <td>hadewwwww permpuan itu lg!!!!sakit jiwa,knp ha...</td>\n",
       "      <td>hadewwwww permpuan itu lg!!!!sakit jiwa,knp ha...</td>\n",
       "    </tr>\n",
       "    <tr>\n",
       "      <th>...</th>\n",
       "      <td>...</td>\n",
       "      <td>...</td>\n",
       "      <td>...</td>\n",
       "      <td>...</td>\n",
       "    </tr>\n",
       "    <tr>\n",
       "      <th>395</th>\n",
       "      <td>396</td>\n",
       "      <td>positive</td>\n",
       "      <td>Bangga sama suami yg selalu ingat istri disela...</td>\n",
       "      <td>bangga sama suami yang selalu ingat istri dise...</td>\n",
       "    </tr>\n",
       "    <tr>\n",
       "      <th>396</th>\n",
       "      <td>397</td>\n",
       "      <td>positive</td>\n",
       "      <td>Apaoun pekerjaannya yg penting halal u tuk men...</td>\n",
       "      <td>apaoun pekerjaannya yang penting halal kamu tu...</td>\n",
       "    </tr>\n",
       "    <tr>\n",
       "      <th>397</th>\n",
       "      <td>398</td>\n",
       "      <td>positive</td>\n",
       "      <td>Gojek itu mayoritas pegangguran yang lama gak ...</td>\n",
       "      <td>gojek itu mayoritas pegangguran yang lama tida...</td>\n",
       "    </tr>\n",
       "    <tr>\n",
       "      <th>398</th>\n",
       "      <td>399</td>\n",
       "      <td>positive</td>\n",
       "      <td>&lt;USERNAME&gt; aslinya cantik dan ayu loh mbak kr...</td>\n",
       "      <td>&lt;username&gt; aslinya cantik dan ayu loh mbak kar...</td>\n",
       "    </tr>\n",
       "    <tr>\n",
       "      <th>399</th>\n",
       "      <td>400</td>\n",
       "      <td>positive</td>\n",
       "      <td>&lt;USERNAME&gt; suami saya seumuran sama saya mba,...</td>\n",
       "      <td>&lt;username&gt; suami saya seumuran sama saya mba, ...</td>\n",
       "    </tr>\n",
       "  </tbody>\n",
       "</table>\n",
       "<p>400 rows × 4 columns</p>\n",
       "</div>"
      ],
      "text/plain": [
       "      Id Sentiment                             Instagram Comment Text  \\\n",
       "0      1  negative   <USERNAME> TOLOL!! Gak ada hubungan nya kegug...   \n",
       "1      2  negative  Geblek lo tata...cowo bgt dibela2in balikan......   \n",
       "2      3  negative  Kmrn termewek2 skr lengket lg duhhh kok labil ...   \n",
       "3      4  negative  Intinya kalau kesel dengan ATT nya, gausah ke ...   \n",
       "4      5  negative  hadewwwww permpuan itu lg!!!!sakit jiwa,knp ha...   \n",
       "..   ...       ...                                                ...   \n",
       "395  396  positive  Bangga sama suami yg selalu ingat istri disela...   \n",
       "396  397  positive  Apaoun pekerjaannya yg penting halal u tuk men...   \n",
       "397  398  positive  Gojek itu mayoritas pegangguran yang lama gak ...   \n",
       "398  399  positive   <USERNAME> aslinya cantik dan ayu loh mbak kr...   \n",
       "399  400  positive   <USERNAME> suami saya seumuran sama saya mba,...   \n",
       "\n",
       "                                            clean_teks  \n",
       "0    <username> tolol!! gak ada hubungan nya kegugu...  \n",
       "1    geblek kamu tata...cowo banget dibela2in balik...  \n",
       "2    kmrn termewek2 skr lengket lagi duhhh kok labi...  \n",
       "3    intinya kalau kesel dengan att nya, tidak usah...  \n",
       "4    hadewwwww permpuan itu lg!!!!sakit jiwa,knp ha...  \n",
       "..                                                 ...  \n",
       "395  bangga sama suami yang selalu ingat istri dise...  \n",
       "396  apaoun pekerjaannya yang penting halal kamu tu...  \n",
       "397  gojek itu mayoritas pegangguran yang lama tida...  \n",
       "398  <username> aslinya cantik dan ayu loh mbak kar...  \n",
       "399  <username> suami saya seumuran sama saya mba, ...  \n",
       "\n",
       "[400 rows x 4 columns]"
      ]
     },
     "execution_count": 8,
     "metadata": {},
     "output_type": "execute_result"
    }
   ],
   "source": [
    "df"
   ]
  },
  {
   "cell_type": "code",
   "execution_count": 9,
   "id": "45fc2f15",
   "metadata": {},
   "outputs": [
    {
     "data": {
      "text/html": [
       "<div>\n",
       "<style scoped>\n",
       "    .dataframe tbody tr th:only-of-type {\n",
       "        vertical-align: middle;\n",
       "    }\n",
       "\n",
       "    .dataframe tbody tr th {\n",
       "        vertical-align: top;\n",
       "    }\n",
       "\n",
       "    .dataframe thead th {\n",
       "        text-align: right;\n",
       "    }\n",
       "</style>\n",
       "<table border=\"1\" class=\"dataframe\">\n",
       "  <thead>\n",
       "    <tr style=\"text-align: right;\">\n",
       "      <th></th>\n",
       "      <th>Id</th>\n",
       "      <th>Sentiment</th>\n",
       "      <th>Instagram Comment Text</th>\n",
       "      <th>clean_teks</th>\n",
       "    </tr>\n",
       "  </thead>\n",
       "  <tbody>\n",
       "    <tr>\n",
       "      <th>0</th>\n",
       "      <td>1</td>\n",
       "      <td>0</td>\n",
       "      <td>&lt;USERNAME&gt; TOLOL!! Gak ada hubungan nya kegug...</td>\n",
       "      <td>&lt;username&gt; tolol!! gak ada hubungan nya kegugu...</td>\n",
       "    </tr>\n",
       "    <tr>\n",
       "      <th>1</th>\n",
       "      <td>2</td>\n",
       "      <td>0</td>\n",
       "      <td>Geblek lo tata...cowo bgt dibela2in balikan......</td>\n",
       "      <td>geblek kamu tata...cowo banget dibela2in balik...</td>\n",
       "    </tr>\n",
       "    <tr>\n",
       "      <th>2</th>\n",
       "      <td>3</td>\n",
       "      <td>0</td>\n",
       "      <td>Kmrn termewek2 skr lengket lg duhhh kok labil ...</td>\n",
       "      <td>kmrn termewek2 skr lengket lagi duhhh kok labi...</td>\n",
       "    </tr>\n",
       "    <tr>\n",
       "      <th>3</th>\n",
       "      <td>4</td>\n",
       "      <td>0</td>\n",
       "      <td>Intinya kalau kesel dengan ATT nya, gausah ke ...</td>\n",
       "      <td>intinya kalau kesel dengan att nya, tidak usah...</td>\n",
       "    </tr>\n",
       "    <tr>\n",
       "      <th>4</th>\n",
       "      <td>5</td>\n",
       "      <td>0</td>\n",
       "      <td>hadewwwww permpuan itu lg!!!!sakit jiwa,knp ha...</td>\n",
       "      <td>hadewwwww permpuan itu lg!!!!sakit jiwa,knp ha...</td>\n",
       "    </tr>\n",
       "    <tr>\n",
       "      <th>...</th>\n",
       "      <td>...</td>\n",
       "      <td>...</td>\n",
       "      <td>...</td>\n",
       "      <td>...</td>\n",
       "    </tr>\n",
       "    <tr>\n",
       "      <th>395</th>\n",
       "      <td>396</td>\n",
       "      <td>1</td>\n",
       "      <td>Bangga sama suami yg selalu ingat istri disela...</td>\n",
       "      <td>bangga sama suami yang selalu ingat istri dise...</td>\n",
       "    </tr>\n",
       "    <tr>\n",
       "      <th>396</th>\n",
       "      <td>397</td>\n",
       "      <td>1</td>\n",
       "      <td>Apaoun pekerjaannya yg penting halal u tuk men...</td>\n",
       "      <td>apaoun pekerjaannya yang penting halal kamu tu...</td>\n",
       "    </tr>\n",
       "    <tr>\n",
       "      <th>397</th>\n",
       "      <td>398</td>\n",
       "      <td>1</td>\n",
       "      <td>Gojek itu mayoritas pegangguran yang lama gak ...</td>\n",
       "      <td>gojek itu mayoritas pegangguran yang lama tida...</td>\n",
       "    </tr>\n",
       "    <tr>\n",
       "      <th>398</th>\n",
       "      <td>399</td>\n",
       "      <td>1</td>\n",
       "      <td>&lt;USERNAME&gt; aslinya cantik dan ayu loh mbak kr...</td>\n",
       "      <td>&lt;username&gt; aslinya cantik dan ayu loh mbak kar...</td>\n",
       "    </tr>\n",
       "    <tr>\n",
       "      <th>399</th>\n",
       "      <td>400</td>\n",
       "      <td>1</td>\n",
       "      <td>&lt;USERNAME&gt; suami saya seumuran sama saya mba,...</td>\n",
       "      <td>&lt;username&gt; suami saya seumuran sama saya mba, ...</td>\n",
       "    </tr>\n",
       "  </tbody>\n",
       "</table>\n",
       "<p>400 rows × 4 columns</p>\n",
       "</div>"
      ],
      "text/plain": [
       "      Id  Sentiment                             Instagram Comment Text  \\\n",
       "0      1          0   <USERNAME> TOLOL!! Gak ada hubungan nya kegug...   \n",
       "1      2          0  Geblek lo tata...cowo bgt dibela2in balikan......   \n",
       "2      3          0  Kmrn termewek2 skr lengket lg duhhh kok labil ...   \n",
       "3      4          0  Intinya kalau kesel dengan ATT nya, gausah ke ...   \n",
       "4      5          0  hadewwwww permpuan itu lg!!!!sakit jiwa,knp ha...   \n",
       "..   ...        ...                                                ...   \n",
       "395  396          1  Bangga sama suami yg selalu ingat istri disela...   \n",
       "396  397          1  Apaoun pekerjaannya yg penting halal u tuk men...   \n",
       "397  398          1  Gojek itu mayoritas pegangguran yang lama gak ...   \n",
       "398  399          1   <USERNAME> aslinya cantik dan ayu loh mbak kr...   \n",
       "399  400          1   <USERNAME> suami saya seumuran sama saya mba,...   \n",
       "\n",
       "                                            clean_teks  \n",
       "0    <username> tolol!! gak ada hubungan nya kegugu...  \n",
       "1    geblek kamu tata...cowo banget dibela2in balik...  \n",
       "2    kmrn termewek2 skr lengket lagi duhhh kok labi...  \n",
       "3    intinya kalau kesel dengan att nya, tidak usah...  \n",
       "4    hadewwwww permpuan itu lg!!!!sakit jiwa,knp ha...  \n",
       "..                                                 ...  \n",
       "395  bangga sama suami yang selalu ingat istri dise...  \n",
       "396  apaoun pekerjaannya yang penting halal kamu tu...  \n",
       "397  gojek itu mayoritas pegangguran yang lama tida...  \n",
       "398  <username> aslinya cantik dan ayu loh mbak kar...  \n",
       "399  <username> suami saya seumuran sama saya mba, ...  \n",
       "\n",
       "[400 rows x 4 columns]"
      ]
     },
     "execution_count": 9,
     "metadata": {},
     "output_type": "execute_result"
    }
   ],
   "source": [
    "df.replace(to_replace=['negative', 'positive'], value=[0,1], inplace=True)\n",
    "df"
   ]
  },
  {
   "cell_type": "markdown",
   "id": "886a6a89",
   "metadata": {},
   "source": [
    "# Dataset Splitting"
   ]
  },
  {
   "cell_type": "code",
   "execution_count": 10,
   "id": "1af0d845",
   "metadata": {},
   "outputs": [
    {
     "data": {
      "text/plain": [
       "((320,), (80,), (320,), (80,))"
      ]
     },
     "execution_count": 10,
     "metadata": {},
     "output_type": "execute_result"
    }
   ],
   "source": [
    "X = df.clean_teks\n",
    "y = df.Sentiment\n",
    "\n",
    "X_train, X_test, y_train, y_test = train_test_split(X, y, test_size=0.2, random_state=1, stratify=y)\n",
    "X_train.shape, X_test.shape, y_train.shape, y_test.shape"
   ]
  },
  {
   "cell_type": "markdown",
   "id": "14997631",
   "metadata": {},
   "source": [
    "# Training"
   ]
  },
  {
   "cell_type": "code",
   "execution_count": 11,
   "id": "6bf41569",
   "metadata": {},
   "outputs": [],
   "source": [
    "from sklearn.feature_extraction.text import TfidfVectorizer\n",
    "from sklearn.model_selection import RandomizedSearchCV\n",
    "from sklearn.linear_model import LogisticRegression\n",
    "from sklearn.neighbors import KNeighborsClassifier\n",
    "from sklearn.naive_bayes import MultinomialNB\n",
    "from jcopml.tuning import random_search_params as rsp\n",
    "from sklearn.ensemble import RandomForestClassifier\n",
    "# from spacy.lang.id import "
   ]
  },
  {
   "cell_type": "code",
   "execution_count": 12,
   "id": "06b965c5",
   "metadata": {},
   "outputs": [
    {
     "name": "stdout",
     "output_type": "stream",
     "text": [
      "Fitting 5 folds for each of 28 candidates, totalling 140 fits\n"
     ]
    },
    {
     "name": "stderr",
     "output_type": "stream",
     "text": [
      "C:\\Users\\ACER\\anaconda3\\lib\\site-packages\\sklearn\\model_selection\\_search.py:306: UserWarning: The total space of parameters 28 is smaller than n_iter=50. Running 28 iterations. For exhaustive searches, use GridSearchCV.\n",
      "  warnings.warn(\n",
      "C:\\Users\\ACER\\anaconda3\\lib\\site-packages\\sklearn\\feature_extraction\\text.py:404: UserWarning: Your stop_words may be inconsistent with your preprocessing. Tokenizing the stop words generated tokens ['``', 'username', 'w.lina2706'] not in stop_words.\n",
      "  warnings.warn(\n"
     ]
    },
    {
     "name": "stdout",
     "output_type": "stream",
     "text": [
      "{'algo__multi_class': 'multinomial', 'algo__fit_intercept': True, 'algo__C': 1.0}\n",
      "1.0 0.871875 0.925\n",
      " \n",
      "CPU times: total: 2.08 s\n",
      "Wall time: 38.3 s\n"
     ]
    }
   ],
   "source": [
    "%%time\n",
    "\n",
    "pipeline = Pipeline([\n",
    "    ('prep', TfidfVectorizer(tokenizer=word_tokenize, stop_words=sw_indo)),\n",
    "    ('algo', LogisticRegression(solver='lbfgs', n_jobs=-1, random_state=42))\n",
    "])\n",
    "\n",
    "parameter = {\n",
    "    'algo__fit_intercept': [True, False],\n",
    "    'algo__multi_class': ['ovr', 'multinomial'],\n",
    "    'algo__C': [1.e-03, 1.e-02, 1.e-01, 1.e+00, 1.e+01, 1.e+02, 1.e+03]\n",
    "}\n",
    "\n",
    "# for i in range(2,12):\n",
    "model = RandomizedSearchCV(pipeline, parameter, cv=5, n_iter=50, n_jobs=-1, verbose=1, random_state=42)\n",
    "model.fit(X_train, y_train)\n",
    "print(model.best_params_)\n",
    "print(model.score(X_train, y_train), model.best_score_, model.score(X_test, y_test))\n",
    "print(\" \")"
   ]
  },
  {
   "cell_type": "code",
   "execution_count": 13,
   "id": "f1eca237",
   "metadata": {},
   "outputs": [
    {
     "name": "stdout",
     "output_type": "stream",
     "text": [
      "              precision    recall  f1-score   support\n",
      "\n",
      "           0       0.90      0.95      0.93        40\n",
      "           1       0.95      0.90      0.92        40\n",
      "\n",
      "    accuracy                           0.93        80\n",
      "   macro avg       0.93      0.93      0.92        80\n",
      "weighted avg       0.93      0.93      0.92        80\n",
      "\n"
     ]
    }
   ],
   "source": [
    "#Check performa model menggunakan classification_report\n",
    "from sklearn.metrics import classification_report\n",
    "y_pred_logreg = model.predict(X_test)\n",
    "print(classification_report(y_test, y_pred_logreg))"
   ]
  },
  {
   "cell_type": "code",
   "execution_count": 14,
   "id": "ed5f5540",
   "metadata": {},
   "outputs": [
    {
     "data": {
      "text/plain": [
       "(0.92, 0.92, 0.92, 0.92)"
      ]
     },
     "execution_count": 14,
     "metadata": {},
     "output_type": "execute_result"
    }
   ],
   "source": [
    "from sklearn.metrics import precision_score, recall_score, f1_score, accuracy_score\n",
    "\n",
    "precision = round(precision_score(y_test, y_pred_logreg, average='micro'), 2)\n",
    "recall = round(recall_score(y_test, y_pred_logreg, average='micro'), 2)\n",
    "accuracy = round(accuracy_score(y_test, y_pred_logreg), 2)\n",
    "f1 = round(f1_score(y_test, y_pred_logreg, average='micro'), 2)\n",
    "\n",
    "precision,recall,accuracy,f1"
   ]
  },
  {
   "cell_type": "code",
   "execution_count": 15,
   "id": "084439b2",
   "metadata": {},
   "outputs": [
    {
     "data": {
      "text/plain": [
       "<sklearn.metrics._plot.confusion_matrix.ConfusionMatrixDisplay at 0x1fb7c45af70>"
      ]
     },
     "execution_count": 15,
     "metadata": {},
     "output_type": "execute_result"
    },
    {
     "data": {
      "image/png": "[encoded data removed]",
      "text/plain": [
       "<Figure size 432x288 with 2 Axes>"
      ]
     },
     "metadata": {
      "needs_background": "light"
     },
     "output_type": "display_data"
    }
   ],
   "source": [
    "from sklearn.metrics import confusion_matrix, accuracy_score\n",
    "from sklearn import metrics\n",
    "\n",
    "cm = confusion_matrix(y_test, y_pred_logreg)\n",
    "# cm_display = metrics.ConfusionMatrixDisplay(confusion_matrix = cm, display_labels = ['0', '1', '2'])\n",
    "cm_display = metrics.ConfusionMatrixDisplay(confusion_matrix = cm, display_labels = ['Neg', 'Pos'])\n",
    "\n",
    "cm_display.plot()"
   ]
  },
  {
   "cell_type": "markdown",
   "id": "fe705ebf",
   "metadata": {},
   "source": [
    "# Sanity Check"
   ]
  },
  {
   "cell_type": "markdown",
   "id": "32c957a1",
   "metadata": {},
   "source": [
    "- 0 -> Negative, \n",
    "- 1 -> Positive"
   ]
  },
  {
   "cell_type": "code",
   "execution_count": 33,
   "id": "d0804d05",
   "metadata": {},
   "outputs": [
    {
     "data": {
      "text/plain": [
       "(array([0], dtype=int64), array([[0.51329017, 0.48670983]]))"
      ]
     },
     "execution_count": 33,
     "metadata": {},
     "output_type": "execute_result"
    }
   ],
   "source": [
    "text = ['sayng belkn aq pulsa di nmr ini, nanti aq yg tlpn km, ini aq pake hp tmn']\n",
    "model.predict(text), model.predict_proba(text)"
   ]
  },
  {
   "cell_type": "code",
   "execution_count": 34,
   "id": "b0a04b98",
   "metadata": {},
   "outputs": [
    {
     "data": {
      "text/plain": [
       "(array([1], dtype=int64), array([[0.48106412, 0.51893588]]))"
      ]
     },
     "execution_count": 34,
     "metadata": {},
     "output_type": "execute_result"
    }
   ],
   "source": [
    "text = ['sedang di busway bermain bola']\n",
    "model.predict(text), model.predict_proba(text)"
   ]
  },
  {
   "cell_type": "code",
   "execution_count": 35,
   "id": "0b4ef5d5",
   "metadata": {},
   "outputs": [
    {
     "data": {
      "text/plain": [
       "(array([1], dtype=int64), array([[0.48106412, 0.51893588]]))"
      ]
     },
     "execution_count": 35,
     "metadata": {},
     "output_type": "execute_result"
    }
   ],
   "source": [
    "text = ['halo andhika disini sedang bermain game bersama kakak']\n",
    "model.predict(text), model.predict_proba(text)"
   ]
  },
  {
   "cell_type": "code",
   "execution_count": 36,
   "id": "6a3896bf",
   "metadata": {},
   "outputs": [
    {
     "data": {
      "text/plain": [
       "(array([0], dtype=int64), array([[0.85478227, 0.14521773]]))"
      ]
     },
     "execution_count": 36,
     "metadata": {},
     "output_type": "execute_result"
    }
   ],
   "source": [
    "text = ['bego bener tuh orang, gabisa kerja kali ya, dasar bodoh']\n",
    "model.predict(text), model.predict_proba(text)"
   ]
  },
  {
   "cell_type": "code",
   "execution_count": 37,
   "id": "2b3984e9",
   "metadata": {},
   "outputs": [
    {
     "data": {
      "text/plain": [
       "(array([0], dtype=int64), array([[0.69864274, 0.30135726]]))"
      ]
     },
     "execution_count": 37,
     "metadata": {},
     "output_type": "execute_result"
    }
   ],
   "source": [
    "text = ['wei yang bener dong kalo kerja, masa gitu aja ga becus sih']\n",
    "model.predict(text), model.predict_proba(text)"
   ]
  },
  {
   "cell_type": "code",
   "execution_count": 32,
   "id": "f7ad46f9",
   "metadata": {},
   "outputs": [
    {
     "data": {
      "text/plain": [
       "(array([1], dtype=int64), array([[0.47630755, 0.52369245]]))"
      ]
     },
     "execution_count": 32,
     "metadata": {},
     "output_type": "execute_result"
    }
   ],
   "source": [
    "text = ['''kalo ga keberatan, punten kembangin kata-kata sub pipeline dong, \n",
    "        di introduction tea, saya udah bingung kembangin apa lagi, barangkali \n",
    "        ada yang punya tambahan''']\n",
    "model.predict(text), model.predict_proba(text)"
   ]
  }
 ],
 "metadata": {
  "kernelspec": {
   "display_name": "Python 3 (ipykernel)",
   "language": "python",
   "name": "python3"
  },
  "language_info": {
   "codemirror_mode": {
    "name": "ipython",
    "version": 3
   },
   "file_extension": ".py",
   "mimetype": "text/x-python",
   "name": "python",
   "nbconvert_exporter": "python",
   "pygments_lexer": "ipython3",
   "version": "3.9.12"
  },
  "varInspector": {
   "cols": {
    "lenName": 16,
    "lenType": 16,
    "lenVar": 40
   },
   "kernels_config": {
    "python": {
     "delete_cmd_postfix": "",
     "delete_cmd_prefix": "del ",
     "library": "var_list.py",
     "varRefreshCmd": "print(var_dic_list())"
    },
    "r": {
     "delete_cmd_postfix": ") ",
     "delete_cmd_prefix": "rm(",
     "library": "var_list.r",
     "varRefreshCmd": "cat(var_dic_list()) "
    }
   },
   "types_to_exclude": [
    "module",
    "function",
    "builtin_function_or_method",
    "instance",
    "_Feature"
   ],
   "window_display": false
  }
 },
 "nbformat": 4,
 "nbformat_minor": 5
}
